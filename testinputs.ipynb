{
 "cells": [
  {
   "cell_type": "code",
   "execution_count": 3,
   "metadata": {},
   "outputs": [],
   "source": [
    "import pickle\n",
    "import torch\n",
    "import numpy as np"
   ]
  },
  {
   "cell_type": "code",
   "execution_count": 1,
   "metadata": {},
   "outputs": [],
   "source": [
    "def getfeatures(dirname):\n",
    "    filename = dirname+\"/cartfeat.pickle\"\n",
    "    print(\"Getting features from \"+filename)\n",
    "    f = torch.load(filename)\n",
    "    features = [i.x.numpy() for i in f]\n",
    "    x = [i[:,0] for i in features]\n",
    "    y = [i[:,1] for i in features]\n",
    "    z = [i[:,2] for i in features]\n",
    "    E = [i[:,3] for i in features]\n",
    "    flatx = []\n",
    "    flaty = []\n",
    "    flatz = []\n",
    "    flatE = []\n",
    "    for i in range(len(x)):\n",
    "        flatx = flatx.extend(x[i])\n",
    "        flaty = flaty.extend(y[i])\n",
    "        flatz = flatz.extend(z[i])\n",
    "        flatE = flatE.extend(E[i])"
   ]
  },
  {
   "cell_type": "code",
   "execution_count": 2,
   "metadata": {},
   "outputs": [
    {
     "name": "stdout",
     "output_type": "stream",
     "text": [
      "Getting features from AToGG_pickles_flatmass_100k/cartfeat.pickle\n"
     ]
    },
    {
     "ename": "NameError",
     "evalue": "name 'torch' is not defined",
     "output_type": "error",
     "traceback": [
      "\u001b[0;31m---------------------------------------------------------------------------\u001b[0m",
      "\u001b[0;31mNameError\u001b[0m                                 Traceback (most recent call last)",
      "Cell \u001b[0;32mIn[2], line 1\u001b[0m\n\u001b[0;32m----> 1\u001b[0m x1,y1,z1,E1 \u001b[39m=\u001b[39m getfeatures(\u001b[39m\"\u001b[39;49m\u001b[39mAToGG_pickles_flatmass_100k\u001b[39;49m\u001b[39m\"\u001b[39;49m)\n\u001b[1;32m      2\u001b[0m \u001b[39mlen\u001b[39m(x1)\n",
      "Cell \u001b[0;32mIn[1], line 4\u001b[0m, in \u001b[0;36mgetfeatures\u001b[0;34m(dirname)\u001b[0m\n\u001b[1;32m      2\u001b[0m filename \u001b[39m=\u001b[39m dirname\u001b[39m+\u001b[39m\u001b[39m\"\u001b[39m\u001b[39m/cartfeat.pickle\u001b[39m\u001b[39m\"\u001b[39m\n\u001b[1;32m      3\u001b[0m \u001b[39mprint\u001b[39m(\u001b[39m\"\u001b[39m\u001b[39mGetting features from \u001b[39m\u001b[39m\"\u001b[39m\u001b[39m+\u001b[39mfilename)\n\u001b[0;32m----> 4\u001b[0m f \u001b[39m=\u001b[39m torch\u001b[39m.\u001b[39mload(filename)\n\u001b[1;32m      5\u001b[0m features \u001b[39m=\u001b[39m [i\u001b[39m.\u001b[39mx\u001b[39m.\u001b[39mnumpy() \u001b[39mfor\u001b[39;00m i \u001b[39min\u001b[39;00m f]\n\u001b[1;32m      6\u001b[0m x \u001b[39m=\u001b[39m [i[:,\u001b[39m0\u001b[39m] \u001b[39mfor\u001b[39;00m i \u001b[39min\u001b[39;00m features]\n",
      "\u001b[0;31mNameError\u001b[0m: name 'torch' is not defined"
     ]
    }
   ],
   "source": [
    "x1,y1,z1,E1 = getfeatures(\"AToGG_pickles_flatmass_100k\")\n",
    "len(x1)"
   ]
  },
  {
   "cell_type": "code",
   "execution_count": 31,
   "metadata": {},
   "outputs": [],
   "source": [
    "f = torch.load(\"AToGG_pickles_testsamplev4/cartfeat.pickle\")\n",
    "features = [i.x.numpy() for i in f]\n",
    "x2 = [i[:,0] for i in features]\n",
    "y2 = [i[:,1] for i in features]\n",
    "z2 = [i[:,2] for i in features]\n",
    "E2 = [i[:,3] for i in features]\n",
    "flatx2 = np.array([])\n",
    "flaty2 = np.array([])\n",
    "flatz2 = np.array([])\n",
    "for i in range(len(x2)):\n",
    "    flatx2 = np.append(flatx2,x2[i])\n",
    "    flaty2 = np.append(flaty2,y2[i])\n",
    "    flatz2 = np.append(flatz2,z2[i])"
   ]
  },
  {
   "cell_type": "code",
   "execution_count": 33,
   "metadata": {},
   "outputs": [
    {
     "data": {
      "text/plain": [
       "(array([541827., 240925., 184068., 177385., 180401., 180887., 185544.,\n",
       "        192674., 238826., 546261.]),\n",
       " array([0.0657074 , 0.15256584, 0.23942428, 0.32628271, 0.41314115,\n",
       "        0.49999959, 0.58685803, 0.67371647, 0.7605749 , 0.84743334,\n",
       "        0.93429178]),\n",
       " <BarContainer object of 10 artists>)"
      ]
     },
     "execution_count": 33,
     "metadata": {},
     "output_type": "execute_result"
    },
    {
     "data": {
      "image/png": "[encoded data removed]",
      "text/plain": [
       "<Figure size 640x480 with 1 Axes>"
      ]
     },
     "metadata": {},
     "output_type": "display_data"
    }
   ],
   "source": [
    "import matplotlib.pyplot as plt\n",
    "plt.hist(flatx)"
   ]
  },
  {
   "cell_type": "code",
   "execution_count": null,
   "metadata": {},
   "outputs": [],
   "source": []
  }
 ],
 "metadata": {
  "kernelspec": {
   "display_name": "hepnew",
   "language": "python",
   "name": "python3"
  },
  "language_info": {
   "codemirror_mode": {
    "name": "ipython",
    "version": 3
   },
   "file_extension": ".py",
   "mimetype": "text/x-python",
   "name": "python",
   "nbconvert_exporter": "python",
   "pygments_lexer": "ipython3",
   "version": "3.11.4"
  },
  "orig_nbformat": 4
 },
 "nbformat": 4,
 "nbformat_minor": 2
}
